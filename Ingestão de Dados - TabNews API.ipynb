{
 "cells": [
  {
   "cell_type": "markdown",
   "metadata": {
    "application/vnd.databricks.v1+cell": {
     "cellMetadata": {},
     "inputWidgets": {},
     "nuid": "c35b40a3-8c42-4bfe-9dfb-576688bfdd3c",
     "showTitle": false,
     "tableResultSettingsMap": {},
     "title": ""
    }
   },
   "source": [
    "\n",
    "\n",
    "https://www.tabnews.com.br/GabrielSozinho/documentacao-da-api-do-tabnews\n",
    "\n",
    "\n",
    "GET {{BaseUrl}}/contents?page={pagina}&per_page={porPagina}&strategy={estrategia}\n",
    "\n",
    "https://www.tabnews.com.br/api/v1\n",
    "\n",
    "GET {{BaseUrl}}/{user}?page={pagina}&per_page={porPagina}&strategy={estrategia}\n",
    "\n",
    "GET {{BaseUrl}}/contents/{user}/{slug}\n",
    "\n",
    "## IMAGEM COM OS COMANDOS PASSADO NA URL QUE DEFINEM PAGINAÇÃO E ORDENAÇÃO\n",
    "\n",
    "![Captura de tela 2025-03-12 012656.png](./Captura de tela 2025-03-12 012656.png \"Captura de tela 2025-03-12 012656.png\")\n",
    "\n",
    "\n"
   ]
  },
  {
   "cell_type": "code",
   "execution_count": 0,
   "metadata": {
    "application/vnd.databricks.v1+cell": {
     "cellMetadata": {
      "byteLimit": 2048000,
      "rowLimit": 10000
     },
     "inputWidgets": {},
     "nuid": "e200c758-067e-4ca8-8689-5cf785511fe3",
     "showTitle": true,
     "tableResultSettingsMap": {},
     "title": "Request API - TABNEWS"
    }
   },
   "outputs": [],
   "source": [
    "import requests\n",
    "import pandas as pd\n",
    "import datetime\n",
    "import json\n",
    "import time\n",
    "\n",
    "\n",
    "## KWARGS PASSAR OS PARAMETROS DA URL DA API DENTRO DO RESPONSE ENCURTAR CAMINHO. EX> AO INVES DE \n",
    "## url = \"https://www.tabnews.com.br/api/v1/contents/?page=1&per_page=100&strategy=new\"\n",
    "## url = \"https://www.tabnews.com.br/api/v1/contents/\" FICARIA ASSIM\n",
    "\n",
    "\n",
    "def get_response(**kwargs):\n",
    "    url = \"https://www.tabnews.com.br/api/v1/contents/\"  # Define a URL base da API\n",
    "    resp = requests.get(url, params=kwargs)  # Faz a requisição GET passando os parâmetros dinamicamente\n",
    "    return resp  # Retorna a resposta da requisição\n",
    "\n",
    "def save_data(data, option='json'):\n",
    "    now = datetime.datetime.now().strftime(\"%Y-%m-%d_%H-%M-%S\")  # Gera um timestamp para nome do arquivo\n",
    "\n",
    "    if option == 'json':\n",
    "        with open(f\"/dbfs/mnt/tabnews/{now}.json\", \"w\") as open_file:  # Define o caminho no DBFS e abre o arquivo para escrita\n",
    "            json.dump(data, open_file)  # Salva os dados no formato JSON\n",
    "\n",
    "    elif option == 'dataframe':\n",
    "        df = pd.DataFrame(data)  # Converte os dados em um DataFrame do Pandas\n",
    "        df.to_parquet(f\"/dbfs/mnt/tabnews/{now}.parquet\", index=False)  # Salva os dados no formato Parquet\n",
    "\n",
    "page = 1  # Inicializa a variável de controle da paginação\n",
    "while True:\n",
    "    print(page)  # Exibe o número da página atual no console para acompanhar a execução\n",
    "\n",
    "    resp = get_response(page=page, per_page=100, strategy=\"new\")  # Faz a requisição para a API com os parâmetros\n",
    "    if resp.status_code == 200:  # Verifica se a requisição foi bem-sucedida\n",
    "        data = resp.json()  # Converte a resposta para JSON\n",
    "        save_data(data)  # Salva os dados no formato especificado\n",
    "\n",
    "        if len(data) < 100:  # Se a quantidade de registros for menor que 100, significa que não há mais páginas disponíveis\n",
    "            break  # Encerra o loop\n",
    "        \n",
    "        page += 1  # Incrementa o número da página para a próxima requisição\n",
    "        time.sleep(5)  # Aguarda 2 segundos entre as requisições para evitar sobrecarga na API\n",
    "\n",
    "    else:\n",
    "        print(resp.status_code)  # Exibe o código de status da resposta em caso de erro\n",
    "        print(resp.json())  # Exibe o conteúdo da resposta de erro para depuração\n",
    "        time.sleep(60 * 15)  # Em caso de erro na requisição, espera 5 minutos antes de tentar novamente\n"
   ]
  },
  {
   "cell_type": "code",
   "execution_count": 0,
   "metadata": {
    "application/vnd.databricks.v1+cell": {
     "cellMetadata": {
      "byteLimit": 2048000,
      "rowLimit": 10000
     },
     "inputWidgets": {},
     "nuid": "0a64fe6b-adf6-4f62-943b-a6547c054cbf",
     "showTitle": true,
     "tableResultSettingsMap": {},
     "title": "Criando Caminho DBFS Para salvar o Request Acima"
    }
   },
   "outputs": [],
   "source": [
    "## dbutils.fs.mkdirs(\"dbfs:/mnt/tabnews\")\n"
   ]
  },
  {
   "cell_type": "code",
   "execution_count": 0,
   "metadata": {
    "application/vnd.databricks.v1+cell": {
     "cellMetadata": {
      "byteLimit": 2048000,
      "rowLimit": 10000
     },
     "inputWidgets": {},
     "nuid": "7b60da4f-2a34-4057-bff5-ca710de2dbf8",
     "showTitle": true,
     "tableResultSettingsMap": {},
     "title": "Verificando se foi salvo"
    }
   },
   "outputs": [],
   "source": [
    "\n",
    "dbutils.fs.ls(\"dbfs:/mnt/tabnews\")"
   ]
  }
 ],
 "metadata": {
  "application/vnd.databricks.v1+notebook": {
   "computePreferences": null,
   "dashboards": [],
   "environmentMetadata": {
    "base_environment": "",
    "environment_version": "2"
   },
   "language": "python",
   "notebookMetadata": {
    "pythonIndentUnit": 4
   },
   "notebookName": "Ingestão de Dados - TabNews API",
   "widgets": {}
  },
  "language_info": {
   "name": "python"
  }
 },
 "nbformat": 4,
 "nbformat_minor": 0
}
